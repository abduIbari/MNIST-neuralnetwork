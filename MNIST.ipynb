{
 "cells": [
  {
   "cell_type": "code",
   "execution_count": 157,
   "metadata": {},
   "outputs": [],
   "source": [
    "import numpy as np\n",
    "import pandas as pd\n",
    "import matplotlib.pyplot as plt"
   ]
  },
  {
   "cell_type": "markdown",
   "metadata": {},
   "source": [
    "# Creating a Pandas dataframe"
   ]
  },
  {
   "cell_type": "code",
   "execution_count": 158,
   "metadata": {},
   "outputs": [
    {
     "name": "stdout",
     "output_type": "stream",
     "text": [
      "   5  0  0.1  0.2  0.3  0.4  0.5  0.6  0.7  0.8  ...  0.608  0.609  0.610  \\\n",
      "0  0  0    0    0    0    0    0    0    0    0  ...      0      0      0   \n",
      "1  4  0    0    0    0    0    0    0    0    0  ...      0      0      0   \n",
      "2  1  0    0    0    0    0    0    0    0    0  ...      0      0      0   \n",
      "3  9  0    0    0    0    0    0    0    0    0  ...      0      0      0   \n",
      "4  2  0    0    0    0    0    0    0    0    0  ...      0      0      0   \n",
      "\n",
      "   0.611  0.612  0.613  0.614  0.615  0.616  0.617  \n",
      "0      0      0      0      0      0      0      0  \n",
      "1      0      0      0      0      0      0      0  \n",
      "2      0      0      0      0      0      0      0  \n",
      "3      0      0      0      0      0      0      0  \n",
      "4      0      0      0      0      0      0      0  \n",
      "\n",
      "[5 rows x 785 columns]\n"
     ]
    }
   ],
   "source": [
    "training_data = pd.read_csv('/Users/abdulbari/Downloads/MNIST_CSV/mnist_train.csv')\n",
    "testing_data = pd.read_csv('/Users/abdulbari/Downloads/MNIST_CSV/mnist_test.csv')\n",
    "\n",
    "print(training_data.head())"
   ]
  },
  {
   "cell_type": "markdown",
   "metadata": {},
   "source": [
    "# Creating a train and test split"
   ]
  },
  {
   "cell_type": "code",
   "execution_count": 159,
   "metadata": {},
   "outputs": [],
   "source": [
    "# changing the pd dataframe into a np array and transposing that entire matrix so that each column is our training/testing example\n",
    "training_data = np.array(training_data).T\n",
    "testing_data = np.array(testing_data).T\n",
    "\n",
    "m, n = training_data.shape\n",
    "np.random.shuffle(training_data)\n",
    "\n",
    "# training data\n",
    "y_train = training_data[0] \n",
    "X_train = training_data[1:m] /255\n",
    "\n",
    "# test data\n",
    "y_test = testing_data[0] \n",
    "X_test = testing_data[1:m] /255 \n"
   ]
  },
  {
   "cell_type": "markdown",
   "metadata": {},
   "source": [
    "# Heart of the NN"
   ]
  },
  {
   "cell_type": "code",
   "execution_count": 160,
   "metadata": {},
   "outputs": [],
   "source": [
    "def init_params():\n",
    "    W1 = np.random.rand(128, 784) - 0.5 # this generates a matrix with randomised weights (between 0 and 1) for each of the nodes from 784 node input layer to the 128 node first hidden layer\n",
    "    W2 = np.random.rand(256, 128) - 0.5  # this generates a matrix with randomised weights (between 0 and 1) for each of the nodes from 128 node first hidden layer to the 128 node second hidden layer\n",
    "    b1 = np.random.rand(128, 1) - 0.5 # generates a randomised bias vector for the first hidden layer\n",
    "    b2 = np.random.rand(256, 1) - 0.5  # generates a randomised bias vector for the second hidden layer\n",
    "    return W1, W2, b1, b2\n",
    "\n",
    "def ReLU(Z):\n",
    "    return np.maximum(Z, 0)\n",
    "\n",
    "def deriv_ReLU(Z):\n",
    "    return Z > 0\n",
    "\n",
    "def sigmoid(Z):\n",
    "    return 1 / (1 + np.exp(-Z))\n",
    "\n",
    "def softmax(Z):\n",
    "    Z_shifted = Z - np.max(Z, axis=0)  # Shift Z by max for numerical stability\n",
    "    exp_Z = np.exp(Z_shifted)\n",
    "    return exp_Z / np.sum(exp_Z, axis=0, keepdims=True)\n",
    "\n",
    "def forward_prop(W1, W2, b1, b2, X):\n",
    "    Z1 = W1.dot(X) + b1 # unactivated first hidden layer\n",
    "    A1 = ReLU(Z1) # activating the first hidden layer\n",
    "    Z2 = W2.dot(A1) + b2 # unactivated second hidden layer\n",
    "    A2 = softmax(Z2) # softmax returns a probablity distribution of the output\n",
    "    return Z1, Z2, A1, A2\n",
    "\n",
    "def one_hot(y_labels):\n",
    "    one_hot_y = np.zeros((y_labels.size, y_labels.max()+1)) # here we are creating a zero matrix in which we would one hot encode our y label\n",
    "    one_hot_y[np.arange(y_labels.size), y_labels] = 1 # this is setting the value on this index to 1 (np.arange(y_labels.size) creates an array of 0s of size y_labels.size)\n",
    "    one_hot_y = one_hot_y.T # makes it a column (previously each row was an example, now each column is an example)\n",
    "    return one_hot_y\n",
    "\n",
    "def back_prop(Z1, Z2, A1, A2, W2, X, Y):\n",
    "    m = Y.size\n",
    "    one_hot_y = one_hot(Y)\n",
    "    dZ2 = A2 - one_hot_y \n",
    "    dW2 = 1/m * dZ2.dot(A1.T) \n",
    "    db2 = 1/m * np.sum(dZ2, axis=1, keepdims=True)   \n",
    "    dZ1 = W2.T.dot(dZ2) * deriv_ReLU(Z1) \n",
    "    dW1 = 1/m * dZ1.dot(X.T) \n",
    "    db1 = 1/m *  np.sum(dZ1, axis=1, keepdims=True)      \n",
    "    return dW1, dW2, db1, db2\n",
    "\n",
    "def update_params(W1, W2, b1, b2, dW1, dW2, db1, db2, lr):\n",
    "    W1 = W1 - lr * dW1\n",
    "    W2 = W2 - lr * dW2\n",
    "    b1 = b1 - lr * db1 \n",
    "    b2 = b2 - lr * db2 \n",
    "    return W1, W2, b1, b2\n"
   ]
  },
  {
   "cell_type": "markdown",
   "metadata": {},
   "source": [
    "# Backprop Explanation\n",
    "\n",
    "\n",
    "- The loss of the current neuron depends on three key factors:\n",
    "  1. **Weight** \n",
    "  2. **Bias** \n",
    "  3. **Activations from the previous layer** \n",
    "\n",
    "1. The variable dZ2 represents the gradient of the loss with respect to Z2. It essentially tells us how much the loss changes after an iteration. This gradient is used during backpropagation to update the parameters of the network, thereby reducing the loss, which is the goal of training the neural network.\n",
    "\n",
    "2. The variable dW2 represents the gradient of the loss with respect to the weights in the second hidden layer, denoted by W2. This gradient indicates how the weights W2 affect the loss.\n",
    "\n",
    "   - This is calculated using the chain rule, where a small change in W2 first slightly changes Z2, which in turn slightly changes A2, and finally, this change affects the loss. Mathematically, this is expressed as: $$\\frac{dL}{dW2} = \\frac{\\partial Z2}{\\partial W2} \\cdot \\frac{\\partial A2}{\\partial Z2} \\cdot \\frac{\\partial L}{\\partial A2}$$\n",
    "      - The derivative of Z2 with respect to W2 is given by: $$\\frac{\\partial Z_2}{\\partial W_2} = A1 $$\n",
    "      - The derivative of A2 with respect to Z2 is the derivative of the softmax (however there is no need for this because this is apparently included in dZ2)\n",
    "      - The derivative of L with respect to A2 is the derivative of the loss function which is just dZ2\n",
    "  - We have 1/m because it averages the gradient over all training examples\n",
    "\n",
    "3. The variable db2 represents the gradient of the loss with respect to the bias in the second hidden layer, denoted by b2. This gradient indicates how the bias b2 affect the loss.\n",
    "\n",
    "    - This is calculated using the chain rule, where a small change in b2 first slightly changes Z2, which in turn slightly changes A2, and finally, this change affects the loss. Mathematically, this is expressed as: $$\\frac{dL}{db2} = \\frac{\\partial Z2}{\\partial b2} \\cdot \\frac{\\partial A2}{\\partial Z2} \\cdot \\frac{\\partial L}{\\partial A2}$$\n",
    "      - The derivative of Z2 with respect to b2 is given by: $$\\frac{\\partial Z_2}{\\partial b_2} = 1 $$\n",
    "      - The derivative of A2 with respect to Z2 is the derivative of the softmax (however there is no need for this because this is apparently included in dZ2)\n",
    "      - The derivative of L with respect to A2 is the derivative of the loss function which is just dZ2\n",
    "  - We take the sum of all values of dZ2 because the bias is shared across all the neurons in a single layer and each neuron’s bias should be adjusted based on the collective error.\n",
    "  - We have 1/m because it averages the gradient over all training examples\n",
    "\n",
    "4. The variable dZ1 represents the how sensitive the loss is to the activation of the previous layer.\n",
    "\n",
    "    - This is calculated using the chain rule, where a small change in Z1 first slightly changes A1, which in turn slightly changes Z2, which changes A2 and finally, this change affects the loss. Mathematically, this is expressed as: $$\\frac{dL}{dZ1} = \\frac{\\partial A1}{\\partial Z1} \\cdot \\frac{\\partial Z2}{\\partial A1} \\cdot \\frac{\\partial A2}{\\partial Z2} \\cdot \\frac{\\partial L}{\\partial A2}$$    \n",
    "      - The derivative of A1 with respect to Z1 is the derivative of the ReLU function which we have described in the **deriv_ReLU()** function\n",
    "      - The derivative of Z2 with respect to A1 is given by: $$\\frac{\\partial Z_2}{\\partial A_1} = W2 $$\n",
    "      - The derivative of A2 with respect to Z2 is the derivative of the softmax (however there is no need for this because this is apparently included in dZ2)\n",
    "      - The derivative of L with respect to A2 is the derivative of the loss function which is just dZ2\n",
    "\n",
    "5. The variable dW1 represents the gradient of the loss with respect to the weights in the first hidden layer, denoted by W1. This gradient indicates how the weights W1 affect the loss. (Essentially repeating the same process but 1 layer back)\n",
    "    - This is calculated using the chain rule, where a small change in W1 first slightly changes Z1, which in turn slightly changes A1, and finally, this change affects the loss. Mathematically, this is expressed as: $$\\frac{dL}{dW1} = \\frac{\\partial Z1}{\\partial W1} \\cdot \\frac{\\partial A1}{\\partial Z1} \\cdot \\frac{\\partial L}{\\partial A1}$$\n",
    "      - The derivative of Z1 with respect to W1 is given by: $$\\frac{\\partial Z_1}{\\partial W_1} = X $$\n",
    "      - The derivative of A1 with respect to Z1 is the derivative of the ReLU (however there is no need for this because this is included in dZ1)\n",
    "      - The derivative of L with respect to A1 is the derivative of the loss function which is just dZ1\n",
    "    - We have 1/m because it averages the gradient over all training examples\n",
    "\n",
    "6. The variable db1 represents the gradient of the loss with respect to the bias in the first hidden layer, denoted by b1. This gradient indicates how the bias b1 affect the loss.\n",
    "\n",
    "    - This is calculated using the chain rule, where a small change in b1 first slightly changes Z1, which in turn slightly changes A1, and finally, this change affects the loss. Mathematically, this is expressed as: $$\\frac{dL}{db1} = \\frac{\\partial Z1}{\\partial b1} \\cdot \\frac{\\partial A1}{\\partial Z1} \\cdot \\frac{\\partial L}{\\partial A1}$$\n",
    "      - The derivative of Z1 with respect to b1 is given by: $$\\frac{\\partial Z_1}{\\partial b_1} = 1 $$\n",
    "      - The derivative of A1 with respect to Z1 is the derivative of the ReLU (however there is no need for this because this is included in dZ2)\n",
    "      - The derivative of L with respect to A1 is the derivative of the loss function which is just dZ1\n",
    "    - We take the sum of all values of dZ1 because the bias is shared across all the neurons in a single layer and each neuron’s bias should be adjusted based on the collective error.\n",
    "    - We have 1/m because it averages the gradient over all training examples \n"
   ]
  },
  {
   "cell_type": "markdown",
   "metadata": {},
   "source": [
    "# Gradient descent"
   ]
  },
  {
   "cell_type": "code",
   "execution_count": 161,
   "metadata": {},
   "outputs": [],
   "source": [
    "def get_predictions(A2):\n",
    "    return np.argmax(A2, 0)\n",
    "\n",
    "def get_accuracy(predictions, Y):\n",
    "    return np.sum(predictions == Y) / Y.size\n",
    "\n",
    "import matplotlib.pyplot as plt\n",
    "\n",
    "def gradient_descent(X, Y, lr, iterations):\n",
    "    W1, W2, b1, b2 = init_params()\n",
    "    accuracies = []  # List to store accuracy values for each iteration\n",
    "    for i in range(iterations):\n",
    "        Z1, Z2, A1, A2 = forward_prop(W1, W2, b1, b2, X)\n",
    "        dW1, dW2, db1, db2 = back_prop(Z1, Z1, A1, A2, W2, X, Y)\n",
    "        W1, W2, b1, b2 = update_params(W1, W2, b1, b2, dW1, dW2, db1, db2, lr)\n",
    "\n",
    "        accuracy = get_accuracy(get_predictions(A2), Y)\n",
    "        accuracies.append(accuracy)\n",
    "\n",
    "        if (i % 50 == 0):\n",
    "            print(f\"Iterations: {i}, Accuracy: {accuracy:.2f}\")\n",
    "            \n",
    "    return W1, W2, b1, b2, accuracies\n",
    "\n",
    "\n"
   ]
  },
  {
   "cell_type": "code",
   "execution_count": 162,
   "metadata": {},
   "outputs": [
    {
     "name": "stdout",
     "output_type": "stream",
     "text": [
      "Iterations: 0, Accuracy: 0.00\n",
      "Iterations: 50, Accuracy: 0.19\n",
      "Iterations: 100, Accuracy: 0.81\n",
      "Iterations: 150, Accuracy: 0.91\n",
      "Iterations: 200, Accuracy: 0.95\n",
      "Iterations: 250, Accuracy: 0.96\n",
      "Iterations: 300, Accuracy: 0.97\n",
      "Iterations: 350, Accuracy: 0.97\n",
      "Iterations: 400, Accuracy: 0.98\n",
      "Iterations: 450, Accuracy: 0.98\n"
     ]
    },
    {
     "data": {
      "image/png": "[encoded data removed]",
      "text/plain": [
       "<Figure size 640x480 with 1 Axes>"
      ]
     },
     "metadata": {},
     "output_type": "display_data"
    }
   ],
   "source": [
    "# Run gradient descent\n",
    "W1, W2, b1, b2, accuracies = gradient_descent(X_train, y_train, lr=0.001, iterations=500)\n",
    "\n",
    "# Plot accuracy over iterations\n",
    "plt.plot(range(1, len(accuracies) + 1), accuracies)\n",
    "plt.xlabel('Iteration')\n",
    "plt.ylabel('Accuracy')\n",
    "plt.title('Accuracy vs. Iterations')\n",
    "plt.grid(True)\n",
    "plt.show()"
   ]
  }
 ],
 "metadata": {
  "kernelspec": {
   "display_name": "Python 3",
   "language": "python",
   "name": "python3"
  },
  "language_info": {
   "codemirror_mode": {
    "name": "ipython",
    "version": 3
   },
   "file_extension": ".py",
   "mimetype": "text/x-python",
   "name": "python",
   "nbconvert_exporter": "python",
   "pygments_lexer": "ipython3",
   "version": "3.12.0"
  }
 },
 "nbformat": 4,
 "nbformat_minor": 2
}
